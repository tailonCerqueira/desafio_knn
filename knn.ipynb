{
 "metadata": {
  "language_info": {
   "codemirror_mode": {
    "name": "ipython",
    "version": 3
   },
   "file_extension": ".py",
   "mimetype": "text/x-python",
   "name": "python",
   "nbconvert_exporter": "python",
   "pygments_lexer": "ipython3",
   "version": "3.8.3-final"
  },
  "orig_nbformat": 2,
  "kernelspec": {
   "name": "python3",
   "display_name": "Python 3.8.3 64-bit (conda)",
   "metadata": {
    "interpreter": {
     "hash": "4691030a0866ba54627ed1dff25b6ba65336c2eb23abf3761e7455d5b18b2543"
    }
   }
  }
 },
 "nbformat": 4,
 "nbformat_minor": 2,
 "cells": [
  {
   "cell_type": "code",
   "execution_count": 11,
   "metadata": {},
   "outputs": [],
   "source": [
    "# Obtendo o dataset iris\n",
    "from sklearn import datasets #importando sklearn para poder carregar o dataset\n",
    "import numpy as np #importando biblioteca Numpy com alias np"
   ]
  },
  {
   "cell_type": "code",
   "execution_count": 12,
   "metadata": {},
   "outputs": [],
   "source": [
    "# Armazenar matrizes de instância e treino\n",
    "iris = datasets.load_iris() #dataset iris\n",
    "x = np.array(iris.data) # matriz de instâncias\n",
    "y = np.array(iris.target) # vetor de rótulos"
   ]
  },
  {
   "cell_type": "code",
   "execution_count": 13,
   "metadata": {},
   "outputs": [],
   "source": [
    "# Função dividir treino teste\n",
    "# Deve receber como parâmetros a matriz de instâncias e o vetor de rótulos de um dataset qualquer e um valor decimal equivalente ao percentual da base que se deseja separar para compor o conjunto de treinamento.\n",
    "def dividir_treino_teste(x, y, percentual_treino):\n",
    "    n_treino = round(y.size * percentual_treino)\n",
    "    np.random.seed(0)\n",
    "    #gera um vetor de índices do tamanho da base e randomiza a ordem\n",
    "    indices_desordenados = np.arange(0,150)\n",
    "    np.random.seed(0)\n",
    "    np.random.shuffle(indices_desordenados)\n",
    "\n",
    "    x_treino = x[indices_desordenados[:n_treino],:]\n",
    "    x_teste = x[indices_desordenados[n_treino:],:]\n",
    "    y_treino = y[indices_desordenados[:n_treino]]\n",
    "    y_teste = y[indices_desordenados[n_treino:]]\n",
    "\n",
    "    return x_treino, x_teste, y_treino, y_teste"
   ]
  },
  {
   "cell_type": "code",
   "execution_count": 14,
   "metadata": {
    "tags": []
   },
   "outputs": [],
   "source": [
    "# Código da classe kNN\n",
    "class kNN:\n",
    "\n",
    "    def __init__(self, k):\n",
    "        self.k = k\n",
    "\n",
    "    def fit(self, x_treino, y_treino):\n",
    "        self.x_treino = x_treino\n",
    "        self.y_treino = y_treino\n",
    "\n",
    "    def predict(self, x_teste):\n",
    "        classes = np.array([])\n",
    "        for ponto in x_teste:\n",
    "            # cálculo da distância euclidiana\n",
    "            vetor_distancia = np.sqrt(np.sum(np.square(x_treino-ponto), axis=1))\n",
    "            \n",
    "            ordem_proximidade = np.argsort(vetor_distancia)\n",
    "            votos_n_vizinhos = y_treino[ordem_proximidade[:self.k]]\n",
    "            \n",
    "            votos, contagem = np.unique(votos_n_vizinhos, return_counts=True)\n",
    "            classes = np.append(classes, votos[np.argmax(contagem)])\n",
    "\n",
    "        return classes"
   ]
  },
  {
   "cell_type": "code",
   "execution_count": 15,
   "metadata": {},
   "outputs": [],
   "source": [
    "# Função acurácia.\n",
    "\n",
    "def acuracia(predito, previsto):\n",
    "    return np.count_nonzero(previsto == predito)/previsto.size"
   ]
  },
  {
   "cell_type": "code",
   "execution_count": 16,
   "metadata": {},
   "outputs": [
    {
     "output_type": "execute_result",
     "data": {
      "text/plain": [
       "0.9333333333333333"
      ]
     },
     "metadata": {},
     "execution_count": 16
    }
   ],
   "source": [
    "x_treino, x_teste, y_treino, y_teste = dividir_treino_teste(iris.data, iris.target, 0.8)\n",
    "knn = kNN(5)\n",
    "knn.fit(x_treino, y_treino)\n",
    "predicoes = knn.predict(x_teste)\n",
    "acuracia(predicoes, y_teste)"
   ]
  },
  {
   "cell_type": "code",
   "execution_count": 17,
   "metadata": {},
   "outputs": [
    {
     "output_type": "execute_result",
     "data": {
      "text/plain": [
       "0.9333333333333333"
      ]
     },
     "metadata": {},
     "execution_count": 17
    }
   ],
   "source": [
    "# Teste de algoritmo\n",
    "\n",
    "from sklearn.neighbors import KNeighborsClassifier\n",
    "\n",
    "neigh = KNeighborsClassifier(n_neighbors=5)\n",
    "neigh.fit(x_treino, y_treino)\n",
    "predicoes = neigh.predict(x_teste)\n",
    "\n",
    "acuracia(predicoes, y_teste)"
   ]
  },
  {
   "cell_type": "code",
   "execution_count": null,
   "metadata": {},
   "outputs": [],
   "source": []
  }
 ]
}